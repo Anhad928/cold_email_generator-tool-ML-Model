{
 "cells": [
  {
   "cell_type": "code",
   "execution_count": 35,
   "id": "04dd4fef-ed6d-460f-b1e0-a760e12a77ee",
   "metadata": {},
   "outputs": [
    {
     "name": "stdout",
     "output_type": "stream",
     "text": [
      "I think there might be some confusion.  The first person to land on Earth would be the first human to be born on the planet. However, I believe you might be referring to the first person to walk on the Moon or another celestial body.\n",
      "\n",
      "If that's the case, the first person to walk on the Moon was Neil Armstrong, an American astronaut who landed on July 20, 1969, as part of the Apollo 11 mission.\n",
      "\n",
      "If you could provide more context or clarify your question, I'd be happy to try and assist you further.\n"
     ]
    }
   ],
   "source": [
    "from langchain_groq import ChatGroq\n",
    "\n",
    "llm = ChatGroq(\n",
    "    model=\"llama-3.1-70b-versatile\",\n",
    "    temperature=0,\n",
    "    groq_api_key='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'\n",
    ")\n",
    "\n",
    "response = llm.invoke(\"The first person to land on earth was ...\")\n",
    "print(response.content)"
   ]
  },
  {
   "cell_type": "code",
   "execution_count": 36,
   "id": "04d5ae97-a593-4a32-b4e4-ff68ef20fc1f",
   "metadata": {},
   "outputs": [
    {
     "name": "stdout",
     "output_type": "stream",
     "text": [
      "Front-End Engineer – 2025 (CAN) - Job ID: 2825619 | Amazon.jobs\n",
      "Skip to main contentHomeYour job applicationAmazon culture & benefitsDiversity at AmazonLocationsTeamsJob categoriesResourcesInterview tipsDisability accommodationsAbout AmazonFAQ×Front-End Engineer – 2025 (CAN)Job ID: 2825619 | Amazon Development Centre Canada ULC - K03Apply nowDESCRIPTIONAre you excited to build products that are used by Amazon customers all over the world? As a Front-End Engineer, you’ll have the opportunity to work closely with experienced developers to create the user-facing side of software. You’ll collaborate with team members and stakeholders on UX and the full software development lifecycle, including scoping, software design, code, testing, documentation, deployment, and maintenance. NOTE: By applying to this position, your application will be considered for all locations we hire for in Canada including, but not limited to: Vancouver, BC; Toronto, ON, Winnipeg, MN, Victoria, BC, Ottawa, ON, Calgary, AB. Locations are subject to change Key job responsibilitiesAs a Front-End Engineer, you will/may:• Deliver software components and improvements to software features with your team’s software.• Work with stakeholders and product partners to deliver high-quality UX.• Take feature specifications and deliver working code that is maintainable and extendable. • Help provide operational support for your team and work to ensure that root causes are identified and resolved. • Participate in code reviews and daily stand-ups. • Collaborate with your team to positively impact the software quality, customer experience, and maintainability of your team’s products. A day in the lifeWe’re on the lookout for the curious, those who think big and want to define the world of tomorrow. At Amazon, you will grow into the high impact, visionary person you know you’re ready to be. Every day will be filled with exciting new challenges, developing new skills, and achieving personal growth. How often can you say that your work changes the world? At Amazon, you’ll say it often. Join us and define tomorrow.BASIC QUALIFICATIONS- Experience in HTML, CSS, or JavaScript- Experience in at least one object-oriented programming language (e.g., JavaScript, Python, C#)- Knowledge of computer science fundamentals (e.g., data structures & algorithms, OO design)- Are 18 years of age or older- Currently working towards a Bachelor’s or Master’s Degree in Computer Science, Computer Engineering, Information Science, Web Development, Human-Computer Interaction, or other equivalent discipline, with an expected conferral date between September 2024 – September 2025 and/or completed your degree no more than 24 months agoPREFERRED QUALIFICATIONS- Experience in one or more relevant front-end frameworks such as React, Angular, etc.- Knowledge of UX best practices- Previous technical internships in a related field (e.g., Front-End, Full Stack, Web Development).- Customer obsession and strong problem-solving skills.Amazon is committed to a diverse and inclusive workplace. Amazon is an equal opportunity employer and does not discriminate on the basis of race, national origin, gender, gender identity, sexual orientation, disability, age, or other legally protected status. If you would like to request an accommodation, please notify your Recruiter.The base salary for this position ranges from $89,700/year up to $149,800/year. Salary is based on a number of factors and may vary depending on job-related knowledge, skills, and experience. Amazon is a total compensation company. Dependent on the position offered, equity, sign-on payments, and other forms of compensation may be provided as part of a total compensation package, in addition to a full range of medical, financial, and/or other benefits. Applicants should apply via our internal or external career site.Job detailsCAN, BC, VancouverSoftware DevelopmentShare this jobJOIN US ONFind CareersJob CategoriesTeamsLocationsUS and EU Military recruitingWarehouse and Hourly JobsWorking At AmazonCultureBenefitsAmazon NewsletterDiversity at AmazonOur leadership principlesHelpFAQInterview tipsReview application statusDisability accommodationsEU background checksAmazon is committed to a diverse and inclusive workplace. Amazon is an equal opportunity employer and does not discriminate on the basis of race, national origin, gender, gender identity, sexual orientation, protected veteran status, disability, age, or other legally protected status.Privacy and DataImpressum© 1996-2024, Amazon.com, Inc. or its affiliates\n"
     ]
    }
   ],
   "source": [
    "from langchain_community.document_loaders import WebBaseLoader\n",
    "\n",
    "loader = WebBaseLoader(\"https://www.amazon.jobs/en/jobs/2825619/front-end-engineer-2025-can\")\n",
    "page_data = loader.load().pop().page_content\n",
    "print(page_data)"
   ]
  },
  {
   "cell_type": "code",
   "execution_count": 37,
   "id": "5063ae06-e13e-45cc-a362-9b435ad39379",
   "metadata": {},
   "outputs": [
    {
     "data": {
      "text/plain": [
       "str"
      ]
     },
     "execution_count": 37,
     "metadata": {},
     "output_type": "execute_result"
    }
   ],
   "source": [
    "from langchain_core.prompts import PromptTemplate\n",
    "\n",
    "prompt_extract = PromptTemplate.from_template(\n",
    "        \"\"\"\n",
    "        ### SCRAPED TEXT FROM WEBSITE:\n",
    "        {page_data}\n",
    "        ### INSTRUCTION:\n",
    "        The scraped text is from the career's page of a website.\n",
    "        Your job is to extract the job postings and return them in JSON format containing the \n",
    "        following keys: `role`, `experience`, `skills` and `description`.\n",
    "        Only return the valid JSON.\n",
    "        ### VALID JSON (NO PREAMBLE):    \n",
    "        \"\"\"\n",
    ")\n",
    "\n",
    "chain_extract = prompt_extract | llm \n",
    "res = chain_extract.invoke(input={'page_data':page_data})\n",
    "type(res.content)"
   ]
  },
  {
   "cell_type": "code",
   "execution_count": 38,
   "id": "9ac05341-dee4-4104-ab66-dc5ec4bab34d",
   "metadata": {},
   "outputs": [
    {
     "data": {
      "text/plain": [
       "{'role': 'Front-End Engineer',\n",
       " 'experience': 'Currently working towards a Bachelor’s or Master’s Degree in Computer Science, Computer Engineering, Information Science, Web Development, Human-Computer Interaction, or other equivalent discipline, with an expected conferral date between September 2024 – September 2025 and/or completed your degree no more than 24 months ago',\n",
       " 'skills': ['HTML',\n",
       "  'CSS',\n",
       "  'JavaScript',\n",
       "  'Object-oriented programming language (e.g., JavaScript, Python, C#)',\n",
       "  'Computer science fundamentals (e.g., data structures & algorithms, OO design)',\n",
       "  'Front-end frameworks such as React, Angular',\n",
       "  'UX best practices'],\n",
       " 'description': 'As a Front-End Engineer, you’ll have the opportunity to work closely with experienced developers to create the user-facing side of software. You’ll collaborate with team members and stakeholders on UX and the full software development lifecycle, including scoping, software design, code, testing, documentation, deployment, and maintenance.'}"
      ]
     },
     "execution_count": 38,
     "metadata": {},
     "output_type": "execute_result"
    }
   ],
   "source": [
    "from langchain_core.output_parsers import JsonOutputParser\n",
    "\n",
    "json_parser = JsonOutputParser()\n",
    "json_res = json_parser.parse(res.content)\n",
    "json_res"
   ]
  },
  {
   "cell_type": "code",
   "execution_count": 39,
   "id": "de04138f-ad1b-4fc0-a894-0d68841e1420",
   "metadata": {},
   "outputs": [
    {
     "data": {
      "text/plain": [
       "dict"
      ]
     },
     "execution_count": 39,
     "metadata": {},
     "output_type": "execute_result"
    }
   ],
   "source": [
    "type(json_res)"
   ]
  },
  {
   "cell_type": "code",
   "execution_count": 40,
   "id": "092b0c69-bf98-4739-add7-ba9aea4cec34",
   "metadata": {},
   "outputs": [
    {
     "data": {
      "text/html": [
       "<div>\n",
       "<style scoped>\n",
       "    .dataframe tbody tr th:only-of-type {\n",
       "        vertical-align: middle;\n",
       "    }\n",
       "\n",
       "    .dataframe tbody tr th {\n",
       "        vertical-align: top;\n",
       "    }\n",
       "\n",
       "    .dataframe thead th {\n",
       "        text-align: right;\n",
       "    }\n",
       "</style>\n",
       "<table border=\"1\" class=\"dataframe\">\n",
       "  <thead>\n",
       "    <tr style=\"text-align: right;\">\n",
       "      <th></th>\n",
       "      <th>Techstack</th>\n",
       "      <th>Links</th>\n",
       "    </tr>\n",
       "  </thead>\n",
       "  <tbody>\n",
       "    <tr>\n",
       "      <th>0</th>\n",
       "      <td>React, Node.js, MongoDB</td>\n",
       "      <td>https://drive.google.com/file/d/sample-pdf-1/view</td>\n",
       "    </tr>\n",
       "    <tr>\n",
       "      <th>1</th>\n",
       "      <td>Angular, .NET, SQL Server</td>\n",
       "      <td>https://drive.google.com/file/d/sample-pdf-2/view</td>\n",
       "    </tr>\n",
       "    <tr>\n",
       "      <th>2</th>\n",
       "      <td>Vue.js, Ruby on Rails, PostgreSQL</td>\n",
       "      <td>https://drive.google.com/file/d/sample-pdf-3/view</td>\n",
       "    </tr>\n",
       "    <tr>\n",
       "      <th>3</th>\n",
       "      <td>Python, Django, MySQL</td>\n",
       "      <td>https://drive.google.com/file/d/sample-pdf-4/view</td>\n",
       "    </tr>\n",
       "    <tr>\n",
       "      <th>4</th>\n",
       "      <td>Java, Spring Boot, Oracle</td>\n",
       "      <td>https://drive.google.com/file/d/sample-pdf-5/view</td>\n",
       "    </tr>\n",
       "    <tr>\n",
       "      <th>5</th>\n",
       "      <td>Flutter, Firebase, GraphQL</td>\n",
       "      <td>https://drive.google.com/file/d/sample-pdf-6/view</td>\n",
       "    </tr>\n",
       "    <tr>\n",
       "      <th>6</th>\n",
       "      <td>WordPress, PHP, MySQL</td>\n",
       "      <td>https://drive.google.com/file/d/sample-pdf-7/view</td>\n",
       "    </tr>\n",
       "    <tr>\n",
       "      <th>7</th>\n",
       "      <td>Magento, PHP, MySQL</td>\n",
       "      <td>https://drive.google.com/file/d/sample-pdf-8/view</td>\n",
       "    </tr>\n",
       "    <tr>\n",
       "      <th>8</th>\n",
       "      <td>React Native, Node.js, MongoDB</td>\n",
       "      <td>https://drive.google.com/file/d/sample-pdf-9/view</td>\n",
       "    </tr>\n",
       "    <tr>\n",
       "      <th>9</th>\n",
       "      <td>iOS, Swift, Core Data</td>\n",
       "      <td>https://drive.google.com/file/d/sample-pdf-10/...</td>\n",
       "    </tr>\n",
       "    <tr>\n",
       "      <th>10</th>\n",
       "      <td>Android, Java, Room Persistence</td>\n",
       "      <td>https://drive.google.com/file/d/sample-pdf-11/...</td>\n",
       "    </tr>\n",
       "    <tr>\n",
       "      <th>11</th>\n",
       "      <td>Kotlin, Android, Firebase</td>\n",
       "      <td>https://drive.google.com/file/d/sample-pdf-12/...</td>\n",
       "    </tr>\n",
       "    <tr>\n",
       "      <th>12</th>\n",
       "      <td>Android TV, Kotlin, Android NDK</td>\n",
       "      <td>https://drive.google.com/file/d/sample-pdf-13/...</td>\n",
       "    </tr>\n",
       "    <tr>\n",
       "      <th>13</th>\n",
       "      <td>iOS, Swift, ARKit</td>\n",
       "      <td>https://drive.google.com/file/d/sample-pdf-14/...</td>\n",
       "    </tr>\n",
       "    <tr>\n",
       "      <th>14</th>\n",
       "      <td>Cross-platform, Xamarin, Azure</td>\n",
       "      <td>https://drive.google.com/file/d/sample-pdf-15/...</td>\n",
       "    </tr>\n",
       "  </tbody>\n",
       "</table>\n",
       "</div>"
      ],
      "text/plain": [
       "                            Techstack  \\\n",
       "0             React, Node.js, MongoDB   \n",
       "1           Angular, .NET, SQL Server   \n",
       "2   Vue.js, Ruby on Rails, PostgreSQL   \n",
       "3               Python, Django, MySQL   \n",
       "4           Java, Spring Boot, Oracle   \n",
       "5          Flutter, Firebase, GraphQL   \n",
       "6               WordPress, PHP, MySQL   \n",
       "7                 Magento, PHP, MySQL   \n",
       "8      React Native, Node.js, MongoDB   \n",
       "9               iOS, Swift, Core Data   \n",
       "10    Android, Java, Room Persistence   \n",
       "11          Kotlin, Android, Firebase   \n",
       "12    Android TV, Kotlin, Android NDK   \n",
       "13                  iOS, Swift, ARKit   \n",
       "14     Cross-platform, Xamarin, Azure   \n",
       "\n",
       "                                                Links  \n",
       "0   https://drive.google.com/file/d/sample-pdf-1/view  \n",
       "1   https://drive.google.com/file/d/sample-pdf-2/view  \n",
       "2   https://drive.google.com/file/d/sample-pdf-3/view  \n",
       "3   https://drive.google.com/file/d/sample-pdf-4/view  \n",
       "4   https://drive.google.com/file/d/sample-pdf-5/view  \n",
       "5   https://drive.google.com/file/d/sample-pdf-6/view  \n",
       "6   https://drive.google.com/file/d/sample-pdf-7/view  \n",
       "7   https://drive.google.com/file/d/sample-pdf-8/view  \n",
       "8   https://drive.google.com/file/d/sample-pdf-9/view  \n",
       "9   https://drive.google.com/file/d/sample-pdf-10/...  \n",
       "10  https://drive.google.com/file/d/sample-pdf-11/...  \n",
       "11  https://drive.google.com/file/d/sample-pdf-12/...  \n",
       "12  https://drive.google.com/file/d/sample-pdf-13/...  \n",
       "13  https://drive.google.com/file/d/sample-pdf-14/...  \n",
       "14  https://drive.google.com/file/d/sample-pdf-15/...  "
      ]
     },
     "execution_count": 40,
     "metadata": {},
     "output_type": "execute_result"
    }
   ],
   "source": [
    "import pandas as pd\n",
    "\n",
    "df = pd.read_csv(\"portfolio_links.csv\")\n",
    "df"
   ]
  },
  {
   "cell_type": "code",
   "execution_count": 42,
   "id": "ec4d3813-cf6b-4e51-8753-423195a448e8",
   "metadata": {},
   "outputs": [],
   "source": [
    "import uuid\n",
    "import chromadb\n",
    "\n",
    "client = chromadb.PersistentClient('vectorstore')\n",
    "collection = client.get_or_create_collection(name=\"portfolio\")\n",
    "\n",
    "if not collection.count():\n",
    "    for _, row in df.iterrows():\n",
    "        collection.add(documents=row[\"Techstack\"],\n",
    "                       metadatas={\"links\": row[\"Links\"]},\n",
    "                       ids=[str(uuid.uuid4())])"
   ]
  },
  {
   "cell_type": "code",
   "execution_count": 49,
   "id": "173b43e3-a141-4f2e-a38c-759052806479",
   "metadata": {},
   "outputs": [
    {
     "data": {
      "text/plain": [
       "[[{'links': 'https://drive.google.com/file/d/sample-pdf-7/view'},\n",
       "  {'links': 'https://drive.google.com/file/d/sample-pdf-8/view'}],\n",
       " [{'links': 'https://drive.google.com/file/d/sample-pdf-7/view'},\n",
       "  {'links': 'https://drive.google.com/file/d/sample-pdf-8/view'}],\n",
       " [{'links': 'https://drive.google.com/file/d/sample-pdf-7/view'},\n",
       "  {'links': 'https://drive.google.com/file/d/sample-pdf-8/view'}],\n",
       " [{'links': 'https://drive.google.com/file/d/sample-pdf-4/view'},\n",
       "  {'links': 'https://drive.google.com/file/d/sample-pdf-14/view'}],\n",
       " [{'links': 'https://drive.google.com/file/d/sample-pdf-8/view'},\n",
       "  {'links': 'https://drive.google.com/file/d/sample-pdf-7/view'}],\n",
       " [{'links': 'https://drive.google.com/file/d/sample-pdf-1/view'},\n",
       "  {'links': 'https://drive.google.com/file/d/sample-pdf-2/view'}],\n",
       " [{'links': 'https://drive.google.com/file/d/sample-pdf-8/view'},\n",
       "  {'links': 'https://drive.google.com/file/d/sample-pdf-11/view'}]]"
      ]
     },
     "execution_count": 49,
     "metadata": {},
     "output_type": "execute_result"
    }
   ],
   "source": [
    "job = json_res\n",
    "links = collection.query(query_texts=job['skills'], n_results=2).get('metadatas', [])\n",
    "links"
   ]
  },
  {
   "cell_type": "code",
   "execution_count": 50,
   "id": "691826f4-72c5-4086-aaff-f4f35db9e9ac",
   "metadata": {},
   "outputs": [
    {
     "data": {
      "text/plain": [
       "['HTML',\n",
       " 'CSS',\n",
       " 'JavaScript',\n",
       " 'Object-oriented programming language (e.g., JavaScript, Python, C#)',\n",
       " 'Computer science fundamentals (e.g., data structures & algorithms, OO design)',\n",
       " 'Front-end frameworks such as React, Angular',\n",
       " 'UX best practices']"
      ]
     },
     "execution_count": 50,
     "metadata": {},
     "output_type": "execute_result"
    }
   ],
   "source": [
    "job = json_res\n",
    "job['skills']"
   ]
  },
  {
   "cell_type": "code",
   "execution_count": 51,
   "id": "bf930c57-018d-4281-a4fe-502dd1f23526",
   "metadata": {},
   "outputs": [
    {
     "name": "stdout",
     "output_type": "stream",
     "text": [
      "Subject: Application for Front-End Engineer Position\n",
      "\n",
      "Dear Hiring Manager,\n",
      "\n",
      "I am excited to apply for the Front-End Engineer position at your esteemed organization. As a 4th-year undergraduate student at the University of Alberta, majoring in Computer Science and minoring in Business, I am confident that my skills and experience make me an ideal candidate for this role.\n",
      "\n",
      "Throughout my academic journey, I have developed a strong foundation in computer science fundamentals, including data structures, algorithms, and object-oriented design. I have also gained hands-on experience with front-end development technologies such as HTML, CSS, JavaScript, and React. My proficiency in these areas has enabled me to create scalable, efficient, and user-friendly software solutions.\n",
      "\n",
      "In addition to my technical skills, I have a keen interest in UX best practices and have worked on various projects that demonstrate my ability to create intuitive and engaging user interfaces. My experience with the full software development lifecycle, including scoping, design, code, testing, documentation, deployment, and maintenance, has prepared me to collaborate effectively with team members and stakeholders.\n",
      "\n",
      "I would like to showcase some of my relevant projects that demonstrate my capabilities:\n",
      "\n",
      "* [https://drive.google.com/file/d/sample-pdf-1/view](https://drive.google.com/file/d/sample-pdf-1/view) - A web application that utilizes React and JavaScript to create a responsive and interactive user interface.\n",
      "* [https://drive.google.com/file/d/sample-pdf-4/view](https://drive.google.com/file/d/sample-pdf-4/view) - A project that showcases my ability to design and implement efficient algorithms and data structures using JavaScript.\n",
      "* [https://drive.google.com/file/d/sample-pdf-8/view](https://drive.google.com/file/d/sample-pdf-8/view) - A front-end project that demonstrates my understanding of UX best practices and my ability to create intuitive and engaging user interfaces.\n",
      "\n",
      "I am excited about the opportunity to work with your team and contribute to the development of innovative software solutions. Thank you for considering my application. I look forward to discussing my qualifications further.\n",
      "\n",
      "Best regards,\n",
      "Anhadpreet Singh\n"
     ]
    }
   ],
   "source": [
    "prompt_email = PromptTemplate.from_template(\n",
    "        \"\"\"\n",
    "        ### JOB DESCRIPTION:\n",
    "        {job_description}\n",
    "        \n",
    "        ### INSTRUCTION:\n",
    "        You are Anhadpreet, a 4th Year Undergraduate at University of Alberta with major in computer science and minor in business.\n",
    "        Over our experience, we have completed numerous projects with tailored solutions, fostering scalability, \n",
    "        process optimization, and heightened overall efficiency. \n",
    "        Your job is to write a cold email to the client regarding the job mentioned above describing the capability of Anhadpreet Singh \n",
    "        in fulfilling their needs.\n",
    "        Also add the most relevant ones from the following links to showcase Anhadpreet's portfolio: {link_list}\n",
    "        Remember you are Anhadpreet, 4th Year undergraduate at University of Alberta. \n",
    "        Do not provide a preamble.\n",
    "        ### EMAIL (NO PREAMBLE):\n",
    "        \n",
    "        \"\"\"\n",
    "        )\n",
    "\n",
    "chain_email = prompt_email | llm\n",
    "res = chain_email.invoke({\"job_description\": str(job), \"link_list\": links})\n",
    "print(res.content)"
   ]
  },
  {
   "cell_type": "code",
   "execution_count": null,
   "id": "3f45beab-da35-4a3d-b82c-f8ed7c1399f0",
   "metadata": {},
   "outputs": [],
   "source": []
  }
 ],
 "metadata": {
  "kernelspec": {
   "display_name": "Python 3 (ipykernel)",
   "language": "python",
   "name": "python3"
  },
  "language_info": {
   "codemirror_mode": {
    "name": "ipython",
    "version": 3
   },
   "file_extension": ".py",
   "mimetype": "text/x-python",
   "name": "python",
   "nbconvert_exporter": "python",
   "pygments_lexer": "ipython3",
   "version": "3.13.0"
  }
 },
 "nbformat": 4,
 "nbformat_minor": 5
}
