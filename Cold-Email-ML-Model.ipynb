{
 "cells": [
  {
   "cell_type": "code",
   "execution_count": 24,
   "id": "04dd4fef-ed6d-460f-b1e0-a760e12a77ee",
   "metadata": {},
   "outputs": [
    {
     "name": "stdout",
     "output_type": "stream",
     "text": [
      "I think there might be some confusion.  The first person to land on Earth would be the first human to be born on the planet. However, I believe you might be referring to the first person to walk on the Moon or another celestial body.\n",
      "\n",
      "If that's the case, the first person to walk on the Moon was Neil Armstrong, an American astronaut who landed on July 20, 1969, as part of the Apollo 11 mission.\n",
      "\n",
      "If you could provide more context or clarify your question, I'd be happy to try and assist you further.\n"
     ]
    }
   ],
   "source": [
    "from langchain_groq import ChatGroq\n",
    "\n",
    "llm = ChatGroq(\n",
    "    model=\"llama-3.1-70b-versatile\",\n",
    "    temperature=0,\n",
    "    groq_api_key='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'\n",
    ")\n",
    "\n",
    "response = llm.invoke(\"The first person to land on earth was ...\")\n",
    "print(response.content)"
   ]
  },
  {
   "cell_type": "code",
   "execution_count": 25,
   "id": "04d5ae97-a593-4a32-b4e4-ff68ef20fc1f",
   "metadata": {},
   "outputs": [
    {
     "name": "stdout",
     "output_type": "stream",
     "text": [
      "Front-End Engineer – 2025 (CAN) - Job ID: 2825619 | Amazon.jobs\n",
      "Skip to main contentHomeMy careerMy applicationsMy profileAccount securitySettingsSign outAmazon culture & benefitsDiversity at AmazonLocationsTeamsJob categoriesResourcesInterview tipsDisability accommodationsAbout AmazonFAQ×Front-End Engineer – 2025 (CAN)Job ID: 2825619 | Amazon Development Centre Canada ULC - K03Apply nowDESCRIPTIONAre you excited to build products that are used by Amazon customers all over the world? As a Front-End Engineer, you’ll have the opportunity to work closely with experienced developers to create the user-facing side of software. You’ll collaborate with team members and stakeholders on UX and the full software development lifecycle, including scoping, software design, code, testing, documentation, deployment, and maintenance. NOTE: By applying to this position, your application will be considered for all locations we hire for in Canada including, but not limited to: Vancouver, BC; Toronto, ON, Winnipeg, MN, Victoria, BC, Ottawa, ON, Calgary, AB. Locations are subject to change Key job responsibilitiesAs a Front-End Engineer, you will/may:• Deliver software components and improvements to software features with your team’s software.• Work with stakeholders and product partners to deliver high-quality UX.• Take feature specifications and deliver working code that is maintainable and extendable. • Help provide operational support for your team and work to ensure that root causes are identified and resolved. • Participate in code reviews and daily stand-ups. • Collaborate with your team to positively impact the software quality, customer experience, and maintainability of your team’s products. A day in the lifeWe’re on the lookout for the curious, those who think big and want to define the world of tomorrow. At Amazon, you will grow into the high impact, visionary person you know you’re ready to be. Every day will be filled with exciting new challenges, developing new skills, and achieving personal growth. How often can you say that your work changes the world? At Amazon, you’ll say it often. Join us and define tomorrow.BASIC QUALIFICATIONS- Experience in HTML, CSS, or JavaScript- Experience in at least one object-oriented programming language (e.g., JavaScript, Python, C#)- Knowledge of computer science fundamentals (e.g., data structures & algorithms, OO design)- Are 18 years of age or older- Currently working towards a Bachelor’s or Master’s Degree in Computer Science, Computer Engineering, Information Science, Web Development, Human-Computer Interaction, or other equivalent discipline, with an expected conferral date between September 2024 – September 2025 and/or completed your degree no more than 24 months agoPREFERRED QUALIFICATIONS- Experience in one or more relevant front-end frameworks such as React, Angular, etc.- Knowledge of UX best practices- Previous technical internships in a related field (e.g., Front-End, Full Stack, Web Development).- Customer obsession and strong problem-solving skills.Amazon is committed to a diverse and inclusive workplace. Amazon is an equal opportunity employer and does not discriminate on the basis of race, national origin, gender, gender identity, sexual orientation, disability, age, or other legally protected status. If you would like to request an accommodation, please notify your Recruiter.The base salary for this position ranges from $89,700/year up to $149,800/year. Salary is based on a number of factors and may vary depending on job-related knowledge, skills, and experience. Amazon is a total compensation company. Dependent on the position offered, equity, sign-on payments, and other forms of compensation may be provided as part of a total compensation package, in addition to a full range of medical, financial, and/or other benefits. Applicants should apply via our internal or external career site.Job detailsCAN, BC, VancouverSoftware DevelopmentShare this jobJOIN US ONFind CareersJob CategoriesTeamsLocationsUS and EU Military recruitingWarehouse and Hourly JobsWorking At AmazonCultureBenefitsAmazon NewsletterDiversity at AmazonOur leadership principlesHelpFAQInterview tipsReview application statusDisability accommodationsEU background checksAmazon is committed to a diverse and inclusive workplace. Amazon is an equal opportunity employer and does not discriminate on the basis of race, national origin, gender, gender identity, sexual orientation, protected veteran status, disability, age, or other legally protected status.Privacy and DataImpressum© 1996-2024, Amazon.com, Inc. or its affiliates\n"
     ]
    }
   ],
   "source": [
    "from langchain_community.document_loaders import WebBaseLoader\n",
    "\n",
    "loader = WebBaseLoader(\"https://www.amazon.jobs/en/jobs/2825619/front-end-engineer-2025-can\")\n",
    "page_data = loader.load().pop().page_content\n",
    "print(page_data)"
   ]
  },
  {
   "cell_type": "code",
   "execution_count": 28,
   "id": "5063ae06-e13e-45cc-a362-9b435ad39379",
   "metadata": {},
   "outputs": [
    {
     "data": {
      "text/plain": [
       "str"
      ]
     },
     "execution_count": 28,
     "metadata": {},
     "output_type": "execute_result"
    }
   ],
   "source": [
    "from langchain_core.prompts import PromptTemplate\n",
    "\n",
    "prompt_extract = PromptTemplate.from_template(\n",
    "        \"\"\"\n",
    "        ### SCRAPED TEXT FROM WEBSITE:\n",
    "        {page_data}\n",
    "        ### INSTRUCTION:\n",
    "        The scraped text is from the career's page of a website.\n",
    "        Your job is to extract the job postings and return them in JSON format containing the \n",
    "        following keys: `role`, `experience`, `skills` and `description`.\n",
    "        Only return the valid JSON.\n",
    "        ### VALID JSON (NO PREAMBLE):    \n",
    "        \"\"\"\n",
    ")\n",
    "\n",
    "chain_extract = prompt_extract | llm \n",
    "res = chain_extract.invoke(input={'page_data':page_data})\n",
    "type(res.content)"
   ]
  },
  {
   "cell_type": "code",
   "execution_count": 29,
   "id": "9ac05341-dee4-4104-ab66-dc5ec4bab34d",
   "metadata": {},
   "outputs": [
    {
     "data": {
      "text/plain": [
       "{'role': 'Front-End Engineer',\n",
       " 'experience': 'Currently working towards a Bachelor’s or Master’s Degree in Computer Science, Computer Engineering, Information Science, Web Development, Human-Computer Interaction, or other equivalent discipline, with an expected conferral date between September 2024 – September 2025 and/or completed your degree no more than 24 months ago',\n",
       " 'skills': ['HTML',\n",
       "  'CSS',\n",
       "  'JavaScript',\n",
       "  'Object-oriented programming language (e.g., JavaScript, Python, C#)',\n",
       "  'Computer science fundamentals (e.g., data structures & algorithms, OO design)',\n",
       "  'Front-end frameworks such as React, Angular',\n",
       "  'UX best practices'],\n",
       " 'description': 'As a Front-End Engineer, you’ll have the opportunity to work closely with experienced developers to create the user-facing side of software. You’ll collaborate with team members and stakeholders on UX and the full software development lifecycle, including scoping, software design, code, testing, documentation, deployment, and maintenance.'}"
      ]
     },
     "execution_count": 29,
     "metadata": {},
     "output_type": "execute_result"
    }
   ],
   "source": [
    "from langchain_core.output_parsers import JsonOutputParser\n",
    "\n",
    "json_parser = JsonOutputParser()\n",
    "json_res = json_parser.parse(res.content)\n",
    "json_res"
   ]
  },
  {
   "cell_type": "code",
   "execution_count": null,
   "id": "de04138f-ad1b-4fc0-a894-0d68841e1420",
   "metadata": {},
   "outputs": [],
   "source": []
  }
 ],
 "metadata": {
  "kernelspec": {
   "display_name": "Python 3 (ipykernel)",
   "language": "python",
   "name": "python3"
  },
  "language_info": {
   "codemirror_mode": {
    "name": "ipython",
    "version": 3
   },
   "file_extension": ".py",
   "mimetype": "text/x-python",
   "name": "python",
   "nbconvert_exporter": "python",
   "pygments_lexer": "ipython3",
   "version": "3.13.0"
  }
 },
 "nbformat": 4,
 "nbformat_minor": 5
}
