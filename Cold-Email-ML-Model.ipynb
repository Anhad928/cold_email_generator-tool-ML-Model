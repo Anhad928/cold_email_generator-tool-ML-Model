{
 "cells": [
  {
   "cell_type": "code",
   "execution_count": 3,
   "id": "04dd4fef-ed6d-460f-b1e0-a760e12a77ee",
   "metadata": {},
   "outputs": [
    {
     "name": "stdout",
     "output_type": "stream",
     "text": [
      "I think there might be some confusion.  The first person to land on Earth would be the first human to be born on the planet. However, I believe you might be referring to the first person to walk on the Moon or another celestial body.\n",
      "\n",
      "If that's the case, the first person to walk on the Moon was Neil Armstrong, an American astronaut who landed on July 20, 1969, as part of the Apollo 11 mission.\n",
      "\n",
      "If you could provide more context or clarify your question, I'd be happy to try and assist you further.\n"
     ]
    }
   ],
   "source": [
    "from langchain_groq import ChatGroq\n",
    "\n",
    "llm = ChatGroq(\n",
    "    model=\"llama-3.1-70b-versatile\",\n",
    "    temperature=0,\n",
    "    groq_api_key='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'\n",
    ")\n",
    "\n",
    "response = llm.invoke(\"The first person to land on earth was ...\")\n",
    "print(response.content)"
   ]
  },
  {
   "cell_type": "code",
   "execution_count": null,
   "id": "04d5ae97-a593-4a32-b4e4-ff68ef20fc1f",
   "metadata": {},
   "outputs": [],
   "source": []
  }
 ],
 "metadata": {
  "kernelspec": {
   "display_name": "Python 3 (ipykernel)",
   "language": "python",
   "name": "python3"
  },
  "language_info": {
   "codemirror_mode": {
    "name": "ipython",
    "version": 3
   },
   "file_extension": ".py",
   "mimetype": "text/x-python",
   "name": "python",
   "nbconvert_exporter": "python",
   "pygments_lexer": "ipython3",
   "version": "3.13.0"
  }
 },
 "nbformat": 4,
 "nbformat_minor": 5
}
